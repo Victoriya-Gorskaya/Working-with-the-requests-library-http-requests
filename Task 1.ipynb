{
 "cells": [
  {
   "cell_type": "code",
   "execution_count": 3,
   "metadata": {},
   "outputs": [
    {
     "name": "stdout",
     "output_type": "stream",
     "text": [
      "Thanos\n"
     ]
    }
   ],
   "source": [
    "import requests\n",
    "from pprint import pprint\n",
    "\n",
    "url = \"https://akabab.github.io/superhero-api/api/\"\n",
    "resp = requests.get(url + 'all.json')\n",
    "list_hero = resp.json()\n",
    "intellect = {}\n",
    "heroes = ['Hulk', 'Captain America', 'Thanos']\n",
    "for hero in list_hero:\n",
    "    mind = hero['powerstats']['intelligence']\n",
    "    name = hero['name']\n",
    "    for n in heroes:\n",
    "        if name == n:\n",
    "            intellect[name] = mind\n",
    "max_i = max(intellect, key = intellect.get)\n",
    "print(max_i)"
   ]
  }
 ],
 "metadata": {
  "kernelspec": {
   "display_name": "Python 3.10.8 64-bit (microsoft store)",
   "language": "python",
   "name": "python3"
  },
  "language_info": {
   "codemirror_mode": {
    "name": "ipython",
    "version": 3
   },
   "file_extension": ".py",
   "mimetype": "text/x-python",
   "name": "python",
   "nbconvert_exporter": "python",
   "pygments_lexer": "ipython3",
   "version": "3.10.8"
  },
  "orig_nbformat": 4,
  "vscode": {
   "interpreter": {
    "hash": "d743b4dc9ec3684cdd86441980026b6286852b04eff304e96f02dbf5f1a15134"
   }
  }
 },
 "nbformat": 4,
 "nbformat_minor": 2
}
