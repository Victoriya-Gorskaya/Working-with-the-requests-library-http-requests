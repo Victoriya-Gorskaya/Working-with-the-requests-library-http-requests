{
 "cells": [
  {
   "cell_type": "code",
   "execution_count": 4,
   "metadata": {},
   "outputs": [
    {
     "name": "stdout",
     "output_type": "stream",
     "text": [
      "<Response [201]>\n"
     ]
    }
   ],
   "source": [
    "import requests\n",
    "from pprint import pprint\n",
    "\n",
    "\n",
    "class YaDisk:\n",
    "    def __init__(self, token: str):\n",
    "        self.token = token\n",
    "\n",
    "    def get_headers(self):\n",
    "        return {\n",
    "            'Content-Type': 'application/json',\n",
    "            'Authorization': f'OAuth {self.token}'\n",
    "        }\n",
    "\n",
    "    def upload_files(self, file_path, filename):\n",
    "        upload_url = \"https://cloud-api.yandex.net/v1/disk/resources/upload\"\n",
    "        headers = self.get_headers()\n",
    "        params = {'path': file_path, 'overwrite': 'true'}\n",
    "        responce = requests.get(upload_url, headers = headers, params = params)\n",
    "        response_getted = responce.json()\n",
    "        \n",
    "        href = response_getted.get(\"href\", \"\")\n",
    "        result = requests.put(href, data = open(filename, 'rb'))\n",
    "        return result\n",
    "\n",
    "if __name__ == '__main__':\n",
    "    token = 'y0_AgAAAAAI5pqDAADLWwAAAADRg5Kai2S8dCJdQbyCIvap5Azlu6GhcQw'\n",
    "    uploader = YaDisk(token)\n",
    "    pprint(uploader.upload_files('Homework_Python/Task_2.txt', 'Task 2_text.txt'))"
   ]
  }
 ],
 "metadata": {
  "kernelspec": {
   "display_name": "Python 3.10.8 64-bit (microsoft store)",
   "language": "python",
   "name": "python3"
  },
  "language_info": {
   "codemirror_mode": {
    "name": "ipython",
    "version": 3
   },
   "file_extension": ".py",
   "mimetype": "text/x-python",
   "name": "python",
   "nbconvert_exporter": "python",
   "pygments_lexer": "ipython3",
   "version": "3.10.8"
  },
  "orig_nbformat": 4,
  "vscode": {
   "interpreter": {
    "hash": "d743b4dc9ec3684cdd86441980026b6286852b04eff304e96f02dbf5f1a15134"
   }
  }
 },
 "nbformat": 4,
 "nbformat_minor": 2
}
